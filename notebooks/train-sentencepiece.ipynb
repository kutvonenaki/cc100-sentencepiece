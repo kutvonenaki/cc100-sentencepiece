{
 "cells": [
  {
   "cell_type": "code",
   "execution_count": null,
   "id": "3f5867c0-2fcb-4800-81ac-9897329af0e2",
   "metadata": {},
   "outputs": [
    {
     "data": {
      "application/vnd.jupyter.widget-view+json": {
       "model_id": "2ca7fbf33bca4f00a1f0108f34f7fb19",
       "version_major": 2,
       "version_minor": 0
      },
      "text/plain": [
       "Downloading:   0%|          | 0.00/2.95k [00:00<?, ?B/s]"
      ]
     },
     "metadata": {},
     "output_type": "display_data"
    },
    {
     "data": {
      "application/vnd.jupyter.widget-view+json": {
       "model_id": "8f29164348234e88ad1deabecdfc80ba",
       "version_major": 2,
       "version_minor": 0
      },
      "text/plain": [
       "Downloading:   0%|          | 0.00/2.41k [00:00<?, ?B/s]"
      ]
     },
     "metadata": {},
     "output_type": "display_data"
    },
    {
     "name": "stderr",
     "output_type": "stream",
     "text": [
      "Using custom data configuration ja-lang=ja\n"
     ]
    },
    {
     "name": "stdout",
     "output_type": "stream",
     "text": [
      "Downloading and preparing dataset cc100/ja (download: Unknown size, generated: Unknown size, post-processed: Unknown size, total: Unknown size) to /root/.cache/huggingface/datasets/cc100/ja-lang=ja/0.0.0/b583dd47b0dd43a3c3773075abd993be12d0eee93dbd2cfe15a0e4e94d481e80...\n"
     ]
    },
    {
     "data": {
      "application/vnd.jupyter.widget-view+json": {
       "model_id": "2d5b198bfe93446fa7c0dcecf3e70324",
       "version_major": 2,
       "version_minor": 0
      },
      "text/plain": [
       "Downloading:   0%|          | 0.00/15.9G [00:00<?, ?B/s]"
      ]
     },
     "metadata": {},
     "output_type": "display_data"
    }
   ],
   "source": [
    "import datasets\n",
    "\n",
    "#load the japanese dataset\n",
    "dataset_ja = datasets.load_dataset(\"cc100\", lang=\"ja\")"
   ]
  },
  {
   "cell_type": "code",
   "execution_count": null,
   "id": "3bf4fb64",
   "metadata": {},
   "outputs": [],
   "source": [
    "#load the english dataset\n",
    "dataset_ja = datasets.load_dataset(\"cc100\", lang=\"en\")"
   ]
  },
  {
   "cell_type": "code",
   "execution_count": null,
   "id": "8e9e0328",
   "metadata": {},
   "outputs": [],
   "source": [
    "# changing the ja into jp here :)\n",
    "import cfg\n",
    "import sentencepiece as spm\n",
    "import time\n",
    "\n",
    "languages = [\"jp\", \"en\"]\n",
    "sentences_fp = {\"jp\": cfg.JP_SENTENCES_FILE, \"en\": cfg.EN_SENTENCES_FILE}\n",
    "vocab_sizes = [2000, 4000, 8000, 16000, 24000, 32000, 48000]\n",
    "character_coverages = {\"jp\": 0.995, \"en\": 1.00}\n",
    "\n",
    "\n",
    "def train_single_param()\n",
    "\n",
    "\n",
    "#loop over parameters for the actual train, expect to spend a while here\n",
    "for lang in languages:\n",
    "    for vocab_size in vocab_sizes:\n",
    "        \n",
    "    start = time.time()\n",
    "\n",
    "    model_prefix = \"cc100_\"+lang + \"_vocab_\" + str(vocab_size)\n",
    "\n",
    "    spm.SentencePieceTrainer.train(input=sentences_fp[lang]\n",
    "                                       , model_prefix=model_prefix\n",
    "                                       , vocab_size=vocab_size\n",
    "                                       , character_coverage = character_coverages[lang]\n",
    "                                      )\n",
    "    \n",
    "    print(\"Trained {} in {} seconds\".format(model_prefix, time.time()-start))"
   ]
  }
 ],
 "metadata": {
  "kernelspec": {
   "display_name": "Python 3 (ipykernel)",
   "language": "python",
   "name": "python3"
  },
  "language_info": {
   "codemirror_mode": {
    "name": "ipython",
    "version": 3
   },
   "file_extension": ".py",
   "mimetype": "text/x-python",
   "name": "python",
   "nbconvert_exporter": "python",
   "pygments_lexer": "ipython3",
   "version": "3.8.10"
  }
 },
 "nbformat": 4,
 "nbformat_minor": 5
}
