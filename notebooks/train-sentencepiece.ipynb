{
 "cells": [
  {
   "cell_type": "code",
   "execution_count": 3,
   "id": "3f5867c0-2fcb-4800-81ac-9897329af0e2",
   "metadata": {},
   "outputs": [
    {
     "name": "stderr",
     "output_type": "stream",
     "text": [
      "Using custom data configuration ja-lang=ja\n",
      "Reusing dataset cc100 (/root/.cache/huggingface/datasets/cc100/ja-lang=ja/0.0.0/b583dd47b0dd43a3c3773075abd993be12d0eee93dbd2cfe15a0e4e94d481e80)\n"
     ]
    }
   ],
   "source": [
    "import datasets\n",
    "\n",
    "#load the japanese dataset\n",
    "dataset_ja = datasets.load_dataset(\"cc100\", lang=\"ja\")"
   ]
  },
  {
   "cell_type": "code",
   "execution_count": 4,
   "id": "928bb079",
   "metadata": {},
   "outputs": [
    {
     "data": {
      "text/plain": [
       "{'id': '961563', 'text': '彼女がホ○ルを凝視しているのを気が付かないふりをするなど誤魔化していました。\\n'}"
      ]
     },
     "execution_count": 4,
     "metadata": {},
     "output_type": "execute_result"
    }
   ],
   "source": [
    "dataset_ja[\"train\"][961563]"
   ]
  },
  {
   "cell_type": "code",
   "execution_count": null,
   "id": "512b1903",
   "metadata": {},
   "outputs": [
    {
     "name": "stdout",
     "output_type": "stream",
     "text": [
      "writing to  /work/data/jp_sentences/sent_0.txt\n"
     ]
    },
    {
     "name": "stderr",
     "output_type": "stream",
     "text": [
      "100%|████████████████████████████████████████████████████████████████████████████████████████████| 10000000/10000000 [02:14<00:00, 74099.67it/s]\n"
     ]
    },
    {
     "name": "stdout",
     "output_type": "stream",
     "text": [
      "writing to  /work/data/jp_sentences/sent_1.txt\n"
     ]
    },
    {
     "name": "stderr",
     "output_type": "stream",
     "text": [
      "100%|████████████████████████████████████████████████████████████████████████████████████████████| 10000000/10000000 [02:12<00:00, 75483.89it/s]\n"
     ]
    },
    {
     "name": "stdout",
     "output_type": "stream",
     "text": [
      "writing to  /work/data/jp_sentences/sent_2.txt\n"
     ]
    },
    {
     "name": "stderr",
     "output_type": "stream",
     "text": [
      "100%|████████████████████████████████████████████████████████████████████████████████████████████| 10000000/10000000 [02:13<00:00, 74980.98it/s]\n"
     ]
    },
    {
     "name": "stdout",
     "output_type": "stream",
     "text": [
      "writing to  /work/data/jp_sentences/sent_3.txt\n"
     ]
    },
    {
     "name": "stderr",
     "output_type": "stream",
     "text": [
      "100%|████████████████████████████████████████████████████████████████████████████████████████████| 10000000/10000000 [02:10<00:00, 76620.94it/s]\n"
     ]
    },
    {
     "name": "stdout",
     "output_type": "stream",
     "text": [
      "writing to  /work/data/jp_sentences/sent_4.txt\n"
     ]
    },
    {
     "name": "stderr",
     "output_type": "stream",
     "text": [
      "100%|████████████████████████████████████████████████████████████████████████████████████████████| 10000000/10000000 [02:09<00:00, 77303.73it/s]"
     ]
    }
   ],
   "source": [
    "from src.make_datasets import make_sentence_files\n",
    "\n",
    "make_sentence_files(dataset_ja[\"train\"])"
   ]
  },
  {
   "cell_type": "code",
   "execution_count": null,
   "id": "2461f660",
   "metadata": {},
   "outputs": [],
   "source": [
    "# read text files as a list\n",
    "\n",
    "import glob\n",
    "import cfg\n",
    "\n",
    "sentence_files = glob.glob(cfg.JP_SENTENCES_DIR + \"/*.txt\")\n",
    "print(glob.glob(cfg.JP_SENTENCES_DIR + \"/*.txt\"))"
   ]
  },
  {
   "cell_type": "code",
   "execution_count": null,
   "id": "d6bdaac4",
   "metadata": {},
   "outputs": [],
   "source": []
  },
  {
   "cell_type": "code",
   "execution_count": null,
   "id": "3bf4fb64",
   "metadata": {},
   "outputs": [],
   "source": [
    "#load the english dataset\n",
    "dataset_ja = datasets.load_dataset(\"cc100\", lang=\"en\")"
   ]
  },
  {
   "cell_type": "code",
   "execution_count": null,
   "id": "09cc8c7c",
   "metadata": {},
   "outputs": [],
   "source": [
    "# changing the ja into jp here :)\n",
    "import cfg\n",
    "import sentencepiece as spm\n",
    "import time\n",
    "from multiprocessing import Pool\n",
    "\n",
    "\n",
    "languages = [\"jp\", \"en\"]\n",
    "sentences_fp = {\"jp\": cfg.JP_SENTENCES_FILE, \"en\": cfg.EN_SENTENCES_FILE}\n",
    "vocab_sizes = [2000, 4000, 8000, 16000, 24000, 32000, 48000]\n",
    "character_coverages = {\"jp\": 0.995, \"en\": 1.00}\n",
    "multiproc_pool_size = 6\n",
    "\n",
    "\n",
    "def train_single_param(lang, vocab_size):\n",
    "    \"\"\" Train a single parameter combination\"\"\"\n",
    "    \n",
    "    start = time.time()\n",
    "    model_prefix = \"cc100_\"+lang + \"_vocab_\" + str(vocab_size)\n",
    "    spm.SentencePieceTrainer.train(input=sentences_fp[lang]\n",
    "                                       , model_prefix=model_prefix\n",
    "                                       , vocab_size=vocab_size\n",
    "                                       , character_coverage = character_coverages[lang]\n",
    "                                      ) \n",
    "    print(\"Trained {} in {} seconds\".format(model_prefix, time.time()-start))\n",
    "    \n",
    "\n",
    "\n",
    "#loop over parameters for the actual train in multiprocessing pool\n",
    "#param_combinations = [(lang,vocab_size) for lang in languages for vocab_size in vocab_sizes]\n",
    "#p = Pool(multiproc_pool_size)\n",
    "\n",
    "#p.starmap(train_single_param, param_combinations)"
   ]
  },
  {
   "cell_type": "code",
   "execution_count": null,
   "id": "d0beda03",
   "metadata": {},
   "outputs": [],
   "source": []
  }
 ],
 "metadata": {
  "kernelspec": {
   "display_name": "Python 3 (ipykernel)",
   "language": "python",
   "name": "python3"
  },
  "language_info": {
   "codemirror_mode": {
    "name": "ipython",
    "version": 3
   },
   "file_extension": ".py",
   "mimetype": "text/x-python",
   "name": "python",
   "nbconvert_exporter": "python",
   "pygments_lexer": "ipython3",
   "version": "3.8.10"
  }
 },
 "nbformat": 4,
 "nbformat_minor": 5
}
