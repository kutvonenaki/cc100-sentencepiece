{
 "cells": [
  {
   "cell_type": "code",
   "execution_count": null,
   "id": "3f5867c0-2fcb-4800-81ac-9897329af0e2",
   "metadata": {},
   "outputs": [],
   "source": [
    "import datasets\n",
    "\n",
    "#load the japanese dataset\n",
    "dataset_ja = datasets.load_dataset(\"cc100\", lang=\"ja\")"
   ]
  },
  {
   "cell_type": "code",
   "execution_count": null,
   "id": "928bb079",
   "metadata": {},
   "outputs": [],
   "source": [
    "# sample an element\n",
    "dataset_ja[\"train\"][961563]"
   ]
  },
  {
   "cell_type": "code",
   "execution_count": null,
   "id": "512b1903",
   "metadata": {},
   "outputs": [],
   "source": [
    "from src.make_datasets import make_sentence_files\n",
    "\n",
    "make_sentence_files(dataset_ja[\"train\"])"
   ]
  },
  {
   "cell_type": "code",
   "execution_count": null,
   "id": "2461f660",
   "metadata": {},
   "outputs": [],
   "source": [
    "# read text files as a list\n",
    "\n",
    "import glob\n",
    "import cfg\n",
    "\n",
    "jp_sentence_files = glob.glob(cfg.JP_SENTENCES_DIR + \"/*.txt\")\n",
    "print(jp_sentence_files)\n",
    "jp_sentence_files=jp_sentence_files[0]"
   ]
  },
  {
   "cell_type": "code",
   "execution_count": null,
   "id": "d6bdaac4",
   "metadata": {},
   "outputs": [],
   "source": [
    "!pip install sentencepiece"
   ]
  },
  {
   "cell_type": "code",
   "execution_count": null,
   "id": "3bf4fb64",
   "metadata": {},
   "outputs": [],
   "source": [
    "#load the english dataset\n",
    "#dataset_ja = datasets.load_dataset(\"cc100\", lang=\"en\")"
   ]
  },
  {
   "cell_type": "code",
   "execution_count": null,
   "id": "cc0354ee",
   "metadata": {},
   "outputs": [],
   "source": [
    "jp_sentence_files"
   ]
  },
  {
   "cell_type": "code",
   "execution_count": null,
   "id": "82cd703a",
   "metadata": {},
   "outputs": [],
   "source": [
    "import sentencepiece as spm\n",
    "\n",
    "#spm.SentencePieceTrainer.train(input=jp_sentence_files, \n",
    "#                               model_prefix='m', vocab_size=1000)\n",
    "\n",
    "spm.SentencePieceTrainer.train(input=jp_sentence_files\n",
    "                                    , model_prefix=\"m\"\n",
    "                                    , vocab_size=4000\n",
    "                                    , character_coverage = 0.995\n",
    "                                    , num_threads=60\n",
    "                                    , train_extremely_large_corpus=True\n",
    "                                      ) "
   ]
  },
  {
   "cell_type": "code",
   "execution_count": null,
   "id": "09cc8c7c",
   "metadata": {},
   "outputs": [],
   "source": [
    "# changing the ja into jp here :)\n",
    "import cfg\n",
    "import sentencepiece as spm\n",
    "import time\n",
    "#from multiprocessing import Pool\n",
    "\n",
    "\n",
    "languages = [\"jp\"]#, \"en\"]\n",
    "sentences_fp = {\"jp\": jp_sentence_files}#, \"en\": cfg.EN_SENTENCES_FILE}\n",
    "vocab_sizes = [4000, 8000, 16000, 24000, 32000, 48000]\n",
    "character_coverages = {\"jp\": 0.995, \"en\": 1.00}\n",
    "#multiproc_pool_size = 6\n",
    "num_threads = 60\n",
    "\n",
    "def train_single_param(lang, vocab_size):\n",
    "    \"\"\" Train a single parameter combination\"\"\"\n",
    "    \n",
    "    start = time.time()\n",
    "    model_prefix = \"cc100_\"+lang + \"_vocab_\" + str(vocab_size)\n",
    "    spm.SentencePieceTrainer.train(input=sentences_fp[lang]\n",
    "                                       , model_prefix=model_prefix\n",
    "                                       , vocab_size=vocab_size\n",
    "                                       , character_coverage = character_coverages[lang]\n",
    "                                       , num_threads=num_threads\n",
    "                                       , minloglevel=1\n",
    "                                      ) \n",
    "    print(\"Trained {} in {} seconds\".format(model_prefix, time.time()-start))\n",
    "    \n",
    "\n",
    "\n",
    "#loop over parameters for the actual train in multiprocessing pool\n",
    "param_combinations = [(lang,vocab_size) for lang in languages for vocab_size in vocab_sizes]\n",
    "#p = Pool(multiproc_pool_size)\n",
    "\n",
    "#p.starmap(train_single_param, param_combinations)\n",
    "\n",
    "#for lang, vocab_size in param_combinations:\n",
    "#    train_single_param(lang, vocab_size)\n",
    "train_single_param(param_combinations[0][0],param_combinations[0][1])"
   ]
  },
  {
   "cell_type": "code",
   "execution_count": null,
   "id": "d0beda03",
   "metadata": {},
   "outputs": [],
   "source": []
  }
 ],
 "metadata": {
  "kernelspec": {
   "display_name": "Python 3 (ipykernel)",
   "language": "python",
   "name": "python3"
  },
  "language_info": {
   "codemirror_mode": {
    "name": "ipython",
    "version": 3
   },
   "file_extension": ".py",
   "mimetype": "text/x-python",
   "name": "python",
   "nbconvert_exporter": "python",
   "pygments_lexer": "ipython3",
   "version": "3.8.10"
  }
 },
 "nbformat": 4,
 "nbformat_minor": 5
}
