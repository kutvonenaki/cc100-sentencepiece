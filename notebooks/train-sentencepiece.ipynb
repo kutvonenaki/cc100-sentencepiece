{
 "cells": [
  {
   "cell_type": "markdown",
   "id": "d998e8d5",
   "metadata": {},
   "source": [
    "## Load datasets and convert to sentence files"
   ]
  },
  {
   "cell_type": "code",
   "execution_count": null,
   "id": "3f5867c0-2fcb-4800-81ac-9897329af0e2",
   "metadata": {},
   "outputs": [],
   "source": [
    "import datasets\n",
    "from src.make_datasets import make_sentence_files\n",
    "\n",
    "# load the japanese dataset\n",
    "dataset_ja = datasets.load_dataset(\"cc100\", lang=\"ja\")\n",
    "\n",
    "# sample a data entry\n",
    "dataset_ja[\"train\"][961563]\n",
    "\n",
    "# and split into sentences\n",
    "# which are written into files 10M data entries per file\n",
    "# one sentence per line\n",
    "make_sentence_files(dataset_ja[\"train\"])"
   ]
  },
  {
   "cell_type": "code",
   "execution_count": null,
   "id": "512b1903",
   "metadata": {},
   "outputs": [],
   "source": [
    "import datasets\n",
    "from src.make_datasets import make_sentence_files\n",
    "\n",
    "# load the english dataset\n",
    "dataset_en = datasets.load_dataset(\"cc100\", lang=\"en\")\n",
    "\n",
    "# sample a data entry\n",
    "dataset_en[\"train\"][961563]\n",
    "\n",
    "# and split into sentences\n",
    "# which are written into files 10M data entries per file\n",
    "# one sentence per line\n",
    "make_sentence_files(dataset_en[\"train\"],data_dir = cfg.EN_SENTENCES_DIR)"
   ]
  },
  {
   "cell_type": "code",
   "execution_count": null,
   "id": "a01c59b7",
   "metadata": {},
   "outputs": [],
   "source": []
  },
  {
   "cell_type": "markdown",
   "id": "34e586d2",
   "metadata": {},
   "source": [
    "## Train Japanese tokenizers"
   ]
  },
  {
   "cell_type": "code",
   "execution_count": 5,
   "id": "534f07a9",
   "metadata": {},
   "outputs": [],
   "source": [
    "import cfg\n",
    "from src.make_datasets import sample_and_make_tempfile\n",
    "\n",
    "# sample num_files from all files and combine to a single file\n",
    "tempfile_path = sample_and_make_tempfile(\n",
    "                                        sentences_dir = cfg.JP_SENTENCES_DIR\n",
    "                                        , num_files = 5)"
   ]
  },
  {
   "cell_type": "code",
   "execution_count": null,
   "id": "82cd703a",
   "metadata": {},
   "outputs": [],
   "source": [
    "import sentencepiece as spm\n",
    "import time\n",
    "\n",
    "# train for these sizes\n",
    "vocab_sizes = [8000, 16000, 32000, 48000]\n",
    "\n",
    "def train_jp(vocab_size):\n",
    "\n",
    "    start = time.time()\n",
    "    model_prefix = \"cc100_jp\" + \"_vocab_\" + str(vocab_size)\n",
    "    spm.SentencePieceTrainer.train(input=tempfile_path\n",
    "                                           , model_prefix=model_prefix\n",
    "                                           , vocab_size=vocab_size\n",
    "                                           , character_coverage = 0.9995\n",
    "                                           , num_threads=60\n",
    "                                           , train_extremely_large_corpus=True\n",
    "                                          ) \n",
    "    print(\"Trained {} in {} seconds\".format(model_prefix, time.time()-start))\n",
    "\n",
    "# train\n",
    "for vocab_size in vocab_sizes:\n",
    "    train_jp(vocab_size)"
   ]
  },
  {
   "cell_type": "markdown",
   "id": "a79329ce",
   "metadata": {},
   "source": [
    "## Train english tokenizers"
   ]
  },
  {
   "cell_type": "code",
   "execution_count": 1,
   "id": "37e942e4",
   "metadata": {},
   "outputs": [
    {
     "name": "stdout",
     "output_type": "stream",
     "text": [
      "['/work/data/en_sentences/sent_9.txt', '/work/data/en_sentences/sent_31.txt', '/work/data/en_sentences/sent_13.txt', '/work/data/en_sentences/sent_18.txt', '/work/data/en_sentences/sent_34.txt', '/work/data/en_sentences/sent_15.txt', '/work/data/en_sentences/sent_40.txt', '/work/data/en_sentences/sent_19.txt', '/work/data/en_sentences/sent_4.txt', '/work/data/en_sentences/sent_7.txt']\n",
      "number of lines sampled: 73808991\n"
     ]
    },
    {
     "name": "stderr",
     "output_type": "stream",
     "text": [
      "100%|██████████| 73808991/73808991 [13:13<00:00, 93063.17it/s] \n"
     ]
    }
   ],
   "source": [
    "import cfg\n",
    "from src.make_datasets import sample_and_make_tempfile\n",
    "\n",
    "# sample num_files from all files and combine to a single file\n",
    "tempfile_path = sample_and_make_tempfile(\n",
    "                                        sentences_dir = cfg.EN_SENTENCES_DIR\n",
    "                                        , num_files = 5)"
   ]
  },
  {
   "cell_type": "code",
   "execution_count": null,
   "id": "ca50a1ae",
   "metadata": {},
   "outputs": [],
   "source": [
    "import sentencepiece as spm\n",
    "import time\n",
    "\n",
    "# train for these sizes\n",
    "vocab_sizes = [8000, 16000, 32000, 48000]\n",
    "\n",
    "def train_en(vocab_size):\n",
    "\n",
    "    start = time.time()\n",
    "    model_prefix = \"cc100_en\" + \"_vocab_\" + str(vocab_size)\n",
    "    spm.SentencePieceTrainer.train(input=tempfile_path\n",
    "                                           , model_prefix=model_prefix\n",
    "                                           , vocab_size=vocab_size\n",
    "                                           , character_coverage = 1.0\n",
    "                                           , num_threads=60\n",
    "                                           , train_extremely_large_corpus=True\n",
    "                                          ) \n",
    "    print(\"Trained {} in {} seconds\".format(model_prefix, time.time()-start))\n",
    "    \n",
    "for vocab_size in vocab_sizes:\n",
    "    train_en(vocab_size)"
   ]
  }
 ],
 "metadata": {
  "kernelspec": {
   "display_name": "Python 3 (ipykernel)",
   "language": "python",
   "name": "python3"
  },
  "language_info": {
   "codemirror_mode": {
    "name": "ipython",
    "version": 3
   },
   "file_extension": ".py",
   "mimetype": "text/x-python",
   "name": "python",
   "nbconvert_exporter": "python",
   "pygments_lexer": "ipython3",
   "version": "3.8.10"
  }
 },
 "nbformat": 4,
 "nbformat_minor": 5
}
