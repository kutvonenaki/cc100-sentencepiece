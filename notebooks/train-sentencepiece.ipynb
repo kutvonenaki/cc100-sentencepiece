{
 "cells": [
  {
   "cell_type": "code",
   "execution_count": null,
   "id": "3f5867c0-2fcb-4800-81ac-9897329af0e2",
   "metadata": {},
   "outputs": [],
   "source": [
    "import datasets\n",
    "from src.make_datasets import make_sentence_files\n",
    "\n",
    "# load the japanese dataset, sample a data entry\n",
    "# and split into sentences\n",
    "# which are written into files 10M data entries per file\n",
    "dataset_ja = datasets.load_dataset(\"cc100\", lang=\"ja\")\n",
    "dataset_ja[\"train\"][961563]\n",
    "make_sentence_files(dataset_ja[\"train\"])"
   ]
  },
  {
   "cell_type": "code",
   "execution_count": null,
   "id": "512b1903",
   "metadata": {},
   "outputs": [],
   "source": [
    "import datasets\n",
    "from src.make_datasets import make_sentence_files\n",
    "\n",
    "# load the englis dataset, sample a data entry\n",
    "# and split into sentences\n",
    "# which are written into files 10M data entries per file\n",
    "dataset_en = datasets.load_dataset(\"cc100\", lang=\"en\")\n",
    "dataset_en[\"train\"][961563]\n",
    "make_sentence_files(dataset_en[\"train\"],data_dir = cfg.EN_SENTENCES_DIR)"
   ]
  },
  {
   "cell_type": "code",
   "execution_count": null,
   "id": "2461f660",
   "metadata": {},
   "outputs": [],
   "source": [
    "import glob\n",
    "import cfg\n",
    "from random import sample\n",
    "from tqdm import tqdm\n",
    "import os\n",
    "\n",
    "# how many files are sampled for the training\n",
    "num_files = 5\n",
    "\n",
    "# read text files as a list\n",
    "jp_sentence_files = glob.glob(cfg.JP_SENTENCES_DIR + \"/*.txt\")\n",
    "\n",
    "# sample num_files\n",
    "sampled_files=sample(jp_sentence_files, num_files)\n",
    "print(sampled_files)\n",
    "\n",
    "#read all the lines from sampled files and save to a list\n",
    "all_lines = []\n",
    "for filename in sampled_files:\n",
    "    with open(filename) as f:\n",
    "        lines = f.read().splitlines()\n",
    "        \n",
    "    all_lines.extend(lines)\n",
    "\n",
    "print(\"number of lines sampled:\", len(all_lines))\n",
    "\n",
    "#combine into a single file and save\n",
    "tempfile = os.path.join(cfg.DATA_DIR, \"temp.txt\")\n",
    "with open(tempfile, \"w\") as f:\n",
    "\n",
    "            for sentence in tqdm(all_lines):\n",
    "                \n",
    "                # remove newlines\n",
    "                line = sentence.strip()\n",
    "\n",
    "                # do not save empty items such as\n",
    "                if sentence != []:\n",
    "\n",
    "                    f.writelines(sentence + '\\n')"
   ]
  },
  {
   "cell_type": "code",
   "execution_count": null,
   "id": "82cd703a",
   "metadata": {},
   "outputs": [],
   "source": [
    "import sentencepiece as spm\n",
    "import time\n",
    "\n",
    "# train for these sizes\n",
    "vocab_sizes = [8000, 16000, 32000, 48000]\n",
    "\n",
    "def train_jp(vocab_size):\n",
    "\n",
    "    start = time.time()\n",
    "    model_prefix = \"cc100_jp\" + \"_vocab_\" + str(vocab_size)\n",
    "    spm.SentencePieceTrainer.train(input=tempfile\n",
    "                                           , model_prefix=model_prefix\n",
    "                                           , vocab_size=vocab_size\n",
    "                                           , character_coverage = 0.9995\n",
    "                                           , num_threads=60\n",
    "                                           , train_extremely_large_corpus=True\n",
    "                                          ) \n",
    "    print(\"Trained {} in {} seconds\".format(model_prefix, time.time()-start))\n",
    "\n",
    "# train\n",
    "for vocab_size in vocab_sizes:\n",
    "    train_jp(vocab_size)"
   ]
  },
  {
   "cell_type": "code",
   "execution_count": 1,
   "id": "37e942e4",
   "metadata": {},
   "outputs": [
    {
     "name": "stdout",
     "output_type": "stream",
     "text": [
      "['/work/data/en_sentences/sent_9.txt', '/work/data/en_sentences/sent_31.txt', '/work/data/en_sentences/sent_13.txt', '/work/data/en_sentences/sent_18.txt', '/work/data/en_sentences/sent_34.txt', '/work/data/en_sentences/sent_15.txt', '/work/data/en_sentences/sent_40.txt', '/work/data/en_sentences/sent_19.txt', '/work/data/en_sentences/sent_4.txt', '/work/data/en_sentences/sent_7.txt']\n",
      "number of lines sampled: 73808991\n"
     ]
    },
    {
     "name": "stderr",
     "output_type": "stream",
     "text": [
      "100%|██████████| 73808991/73808991 [13:13<00:00, 93063.17it/s] \n"
     ]
    }
   ],
   "source": [
    "import glob\n",
    "import cfg\n",
    "from random import sample\n",
    "from tqdm import tqdm\n",
    "import os\n",
    "\n",
    "# how many files sampled for training\n",
    "num_files = 5\n",
    "\n",
    "# read text files as a list\n",
    "en_sentence_files = glob.glob(cfg.EN_SENTENCES_DIR + \"/*.txt\")\n",
    "\n",
    "# sample num_files\n",
    "sampled_files=sample(en_sentence_files, num_files)\n",
    "print(sampled_files)\n",
    "\n",
    "# read all the lines from sampled files and save to a list\n",
    "all_lines = []\n",
    "for filename in sampled_files:\n",
    "    with open(filename) as f:\n",
    "        lines = f.read().splitlines()\n",
    "        \n",
    "    all_lines.extend(lines)\n",
    "\n",
    "print(\"number of lines sampled:\", len(all_lines))\n",
    "\n",
    "#combine into a single file and save temp file\n",
    "tempfile = os.path.join(cfg.DATA_DIR, \"temp.txt\")\n",
    "with open(tempfile, \"w\") as f:\n",
    "\n",
    "            for sentence in tqdm(all_lines):\n",
    "                \n",
    "                # remove newlines\n",
    "                line = sentence.strip()\n",
    "\n",
    "                # do not save empty items such as\n",
    "                if sentence != []:\n",
    "\n",
    "                    f.writelines(sentence + '\\n')"
   ]
  },
  {
   "cell_type": "code",
   "execution_count": null,
   "id": "ca50a1ae",
   "metadata": {},
   "outputs": [],
   "source": [
    "import sentencepiece as spm\n",
    "import time\n",
    "\n",
    "# train for these sizes\n",
    "vocab_sizes = [8000, 16000, 32000, 48000]\n",
    "\n",
    "def train_en(vocab_size):\n",
    "\n",
    "    start = time.time()\n",
    "    model_prefix = \"cc100_en\" + \"_vocab_\" + str(vocab_size)\n",
    "    spm.SentencePieceTrainer.train(input=tempfile\n",
    "                                           , model_prefix=model_prefix\n",
    "                                           , vocab_size=vocab_size\n",
    "                                           , character_coverage = 1.0\n",
    "                                           , num_threads=60\n",
    "                                           , train_extremely_large_corpus=True\n",
    "                                          ) \n",
    "    print(\"Trained {} in {} seconds\".format(model_prefix, time.time()-start))\n",
    "    \n",
    "for vocab_size in vocab_sizes:\n",
    "    train_en(vocab_size)"
   ]
  }
 ],
 "metadata": {
  "kernelspec": {
   "display_name": "Python 3 (ipykernel)",
   "language": "python",
   "name": "python3"
  },
  "language_info": {
   "codemirror_mode": {
    "name": "ipython",
    "version": 3
   },
   "file_extension": ".py",
   "mimetype": "text/x-python",
   "name": "python",
   "nbconvert_exporter": "python",
   "pygments_lexer": "ipython3",
   "version": "3.8.10"
  }
 },
 "nbformat": 4,
 "nbformat_minor": 5
}
