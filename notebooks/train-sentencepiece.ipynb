{
 "cells": [
  {
   "cell_type": "code",
   "execution_count": null,
   "id": "3f5867c0-2fcb-4800-81ac-9897329af0e2",
   "metadata": {},
   "outputs": [],
   "source": [
    "import datasets\n",
    "from src.make_datasets import make_sentence_files\n",
    "\n",
    "# load the japanese dataset , sample and split into sentences\n",
    "dataset_ja = datasets.load_dataset(\"cc100\", lang=\"ja\")\n",
    "dataset_ja[\"train\"][961563]\n",
    "make_sentence_files(dataset_ja[\"train\"])"
   ]
  },
  {
   "cell_type": "code",
   "execution_count": 1,
   "id": "512b1903",
   "metadata": {},
   "outputs": [
    {
     "name": "stderr",
     "output_type": "stream",
     "text": [
      "Using custom data configuration en-lang=en\n"
     ]
    },
    {
     "name": "stdout",
     "output_type": "stream",
     "text": [
      "Downloading and preparing dataset cc100/en (download: Unknown size, generated: Unknown size, post-processed: Unknown size, total: Unknown size) to /root/.cache/huggingface/datasets/cc100/en-lang=en/0.0.0/b583dd47b0dd43a3c3773075abd993be12d0eee93dbd2cfe15a0e4e94d481e80...\n"
     ]
    },
    {
     "data": {
      "application/vnd.jupyter.widget-view+json": {
       "model_id": "09202aa9dd224797a13cc1b5cfe7f6ce",
       "version_major": 2,
       "version_minor": 0
      },
      "text/plain": [
       "0 examples [00:00, ? examples/s]"
      ]
     },
     "metadata": {},
     "output_type": "display_data"
    },
    {
     "name": "stderr",
     "output_type": "stream",
     "text": [
      "IOPub message rate exceeded.\n",
      "The notebook server will temporarily stop sending output\n",
      "to the client in order to avoid crashing it.\n",
      "To change this limit, set the config variable\n",
      "`--NotebookApp.iopub_msg_rate_limit`.\n",
      "\n",
      "Current values:\n",
      "NotebookApp.iopub_msg_rate_limit=1000.0 (msgs/sec)\n",
      "NotebookApp.rate_limit_window=3.0 (secs)\n",
      "\n",
      "IOPub message rate exceeded.\n",
      "The notebook server will temporarily stop sending output\n",
      "to the client in order to avoid crashing it.\n",
      "To change this limit, set the config variable\n",
      "`--NotebookApp.iopub_msg_rate_limit`.\n",
      "\n",
      "Current values:\n",
      "NotebookApp.iopub_msg_rate_limit=1000.0 (msgs/sec)\n",
      "NotebookApp.rate_limit_window=3.0 (secs)\n",
      "\n",
      "IOPub message rate exceeded.\n",
      "The notebook server will temporarily stop sending output\n",
      "to the client in order to avoid crashing it.\n",
      "To change this limit, set the config variable\n",
      "`--NotebookApp.iopub_msg_rate_limit`.\n",
      "\n",
      "Current values:\n",
      "NotebookApp.iopub_msg_rate_limit=1000.0 (msgs/sec)\n",
      "NotebookApp.rate_limit_window=3.0 (secs)\n",
      "\n",
      "IOPub message rate exceeded.\n",
      "The notebook server will temporarily stop sending output\n",
      "to the client in order to avoid crashing it.\n",
      "To change this limit, set the config variable\n",
      "`--NotebookApp.iopub_msg_rate_limit`.\n",
      "\n",
      "Current values:\n",
      "NotebookApp.iopub_msg_rate_limit=1000.0 (msgs/sec)\n",
      "NotebookApp.rate_limit_window=3.0 (secs)\n",
      "\n",
      "IOPub message rate exceeded.\n",
      "The notebook server will temporarily stop sending output\n",
      "to the client in order to avoid crashing it.\n",
      "To change this limit, set the config variable\n",
      "`--NotebookApp.iopub_msg_rate_limit`.\n",
      "\n",
      "Current values:\n",
      "NotebookApp.iopub_msg_rate_limit=1000.0 (msgs/sec)\n",
      "NotebookApp.rate_limit_window=3.0 (secs)\n",
      "\n",
      "100%|████████████████████████████████████████████████████████████████████████████████████████████| 10000000/10000000 [03:56<00:00, 42345.23it/s]\n"
     ]
    },
    {
     "name": "stdout",
     "output_type": "stream",
     "text": [
      "writing to  /work/data/jp_sentences/sent_4.txt\n"
     ]
    },
    {
     "name": "stderr",
     "output_type": "stream",
     "text": [
      " 64%|███████████████████████████████████████████████████████████▏                                 | 6367585/10000000 [02:29<01:33, 38862.80it/s]IOPub message rate exceeded.\n",
      "The notebook server will temporarily stop sending output\n",
      "to the client in order to avoid crashing it.\n",
      "To change this limit, set the config variable\n",
      "`--NotebookApp.iopub_msg_rate_limit`.\n",
      "\n",
      "Current values:\n",
      "NotebookApp.iopub_msg_rate_limit=1000.0 (msgs/sec)\n",
      "NotebookApp.rate_limit_window=3.0 (secs)\n",
      "\n",
      "100%|████████████████████████████████████████████████████████████████████████████████████████████| 10000000/10000000 [03:49<00:00, 43534.79it/s]\n"
     ]
    },
    {
     "name": "stdout",
     "output_type": "stream",
     "text": [
      "writing to  /work/data/jp_sentences/sent_10.txt\n"
     ]
    },
    {
     "name": "stderr",
     "output_type": "stream",
     "text": [
      " 43%|███████████████████████████████████████▋                                                     | 4262089/10000000 [01:37<02:14, 42668.36it/s]IOPub message rate exceeded.\n",
      "The notebook server will temporarily stop sending output\n",
      "to the client in order to avoid crashing it.\n",
      "To change this limit, set the config variable\n",
      "`--NotebookApp.iopub_msg_rate_limit`.\n",
      "\n",
      "Current values:\n",
      "NotebookApp.iopub_msg_rate_limit=1000.0 (msgs/sec)\n",
      "NotebookApp.rate_limit_window=3.0 (secs)\n",
      "\n",
      "100%|████████████████████████████████████████████████████████████████████████████████████████████| 10000000/10000000 [03:47<00:00, 43925.03it/s]\n"
     ]
    },
    {
     "name": "stdout",
     "output_type": "stream",
     "text": [
      "writing to  /work/data/jp_sentences/sent_15.txt\n"
     ]
    },
    {
     "name": "stderr",
     "output_type": "stream",
     "text": [
      "100%|████████████████████████████████████████████████████████████████████████████████████████████| 10000000/10000000 [03:47<00:00, 43907.75it/s]\n"
     ]
    },
    {
     "name": "stdout",
     "output_type": "stream",
     "text": [
      "writing to  /work/data/jp_sentences/sent_16.txt\n"
     ]
    },
    {
     "name": "stderr",
     "output_type": "stream",
     "text": [
      "  7%|██████▏                                                                                       | 661055/10000000 [00:15<03:35, 43270.57it/s]IOPub message rate exceeded.\n",
      "The notebook server will temporarily stop sending output\n",
      "to the client in order to avoid crashing it.\n",
      "To change this limit, set the config variable\n",
      "`--NotebookApp.iopub_msg_rate_limit`.\n",
      "\n",
      "Current values:\n",
      "NotebookApp.iopub_msg_rate_limit=1000.0 (msgs/sec)\n",
      "NotebookApp.rate_limit_window=3.0 (secs)\n",
      "\n",
      "100%|████████████████████████████████████████████████████████████████████████████████████████████| 10000000/10000000 [03:47<00:00, 43968.81it/s]\n"
     ]
    },
    {
     "name": "stdout",
     "output_type": "stream",
     "text": [
      "writing to  /work/data/jp_sentences/sent_21.txt\n"
     ]
    },
    {
     "name": "stderr",
     "output_type": "stream",
     "text": [
      " 83%|█████████████████████████████████████████████████████████████████████████████▍               | 8329275/10000000 [03:09<00:33, 50060.93it/s]IOPub message rate exceeded.\n",
      "The notebook server will temporarily stop sending output\n",
      "to the client in order to avoid crashing it.\n",
      "To change this limit, set the config variable\n",
      "`--NotebookApp.iopub_msg_rate_limit`.\n",
      "\n",
      "Current values:\n",
      "NotebookApp.iopub_msg_rate_limit=1000.0 (msgs/sec)\n",
      "NotebookApp.rate_limit_window=3.0 (secs)\n",
      "\n",
      "100%|████████████████████████████████████████████████████████████████████████████████████████████| 10000000/10000000 [03:44<00:00, 44491.87it/s]\n"
     ]
    },
    {
     "name": "stdout",
     "output_type": "stream",
     "text": [
      "writing to  /work/data/jp_sentences/sent_27.txt\n"
     ]
    },
    {
     "name": "stderr",
     "output_type": "stream",
     "text": [
      " 56%|███████████████████████████████████████████████████▉                                         | 5580709/10000000 [02:06<01:42, 42989.74it/s]IOPub message rate exceeded.\n",
      "The notebook server will temporarily stop sending output\n",
      "to the client in order to avoid crashing it.\n",
      "To change this limit, set the config variable\n",
      "`--NotebookApp.iopub_msg_rate_limit`.\n",
      "\n",
      "Current values:\n",
      "NotebookApp.iopub_msg_rate_limit=1000.0 (msgs/sec)\n",
      "NotebookApp.rate_limit_window=3.0 (secs)\n",
      "\n",
      "100%|████████████████████████████████████████████████████████████████████████████████████████████| 10000000/10000000 [03:45<00:00, 44250.54it/s]\n"
     ]
    },
    {
     "name": "stdout",
     "output_type": "stream",
     "text": [
      "writing to  /work/data/jp_sentences/sent_32.txt\n"
     ]
    },
    {
     "name": "stderr",
     "output_type": "stream",
     "text": [
      "100%|████████████████████████████████████████████████████████████████████████████████████████████| 10000000/10000000 [03:44<00:00, 44550.65it/s]\n"
     ]
    },
    {
     "name": "stdout",
     "output_type": "stream",
     "text": [
      "writing to  /work/data/jp_sentences/sent_33.txt\n"
     ]
    },
    {
     "name": "stderr",
     "output_type": "stream",
     "text": [
      "  7%|██████▍                                                                                       | 679611/10000000 [00:15<03:37, 42788.91it/s]IOPub message rate exceeded.\n",
      "The notebook server will temporarily stop sending output\n",
      "to the client in order to avoid crashing it.\n",
      "To change this limit, set the config variable\n",
      "`--NotebookApp.iopub_msg_rate_limit`.\n",
      "\n",
      "Current values:\n",
      "NotebookApp.iopub_msg_rate_limit=1000.0 (msgs/sec)\n",
      "NotebookApp.rate_limit_window=3.0 (secs)\n",
      "\n",
      "100%|████████████████████████████████████████████████████████████████████████████████████████████| 10000000/10000000 [03:43<00:00, 44814.83it/s]\n"
     ]
    },
    {
     "name": "stdout",
     "output_type": "stream",
     "text": [
      "writing to  /work/data/jp_sentences/sent_38.txt\n"
     ]
    },
    {
     "name": "stderr",
     "output_type": "stream",
     "text": [
      " 88%|█████████████████████████████████████████████████████████████████████████████████▊           | 8800105/10000000 [03:16<00:25, 46443.21it/s]IOPub message rate exceeded.\n",
      "The notebook server will temporarily stop sending output\n",
      "to the client in order to avoid crashing it.\n",
      "To change this limit, set the config variable\n",
      "`--NotebookApp.iopub_msg_rate_limit`.\n",
      "\n",
      "Current values:\n",
      "NotebookApp.iopub_msg_rate_limit=1000.0 (msgs/sec)\n",
      "NotebookApp.rate_limit_window=3.0 (secs)\n",
      "\n"
     ]
    }
   ],
   "source": [
    "import datasets\n",
    "from src.make_datasets import make_sentence_files\n",
    "\n",
    "# load the english dataset , sample and split into sentences\n",
    "dataset_en = datasets.load_dataset(\"cc100\", lang=\"en\")\n",
    "dataset_en[\"train\"][961563]\n",
    "make_sentence_files(dataset_en[\"train\"],data_dir = cfg.EN_SENTENCES_DIR)"
   ]
  },
  {
   "cell_type": "code",
   "execution_count": null,
   "id": "63d30e26",
   "metadata": {},
   "outputs": [],
   "source": [
    "print(\"test\")\n",
    "dataset_en[\"train\"][961563]"
   ]
  },
  {
   "cell_type": "code",
   "execution_count": null,
   "id": "2461f660",
   "metadata": {},
   "outputs": [],
   "source": [
    "import glob\n",
    "import cfg\n",
    "from random import sample\n",
    "from tqdm import tqdm\n",
    "import os\n",
    "\n",
    "num_files = 7\n",
    "\n",
    "# read text files as a list\n",
    "jp_sentence_files = glob.glob(cfg.JP_SENTENCES_DIR + \"/*.txt\")\n",
    "\n",
    "# sample num_files\n",
    "sampled_files=sample(jp_sentence_files, num_files)\n",
    "print(sampled_files)\n",
    "\n",
    "#read all the lines as a list\n",
    "all_lines = []\n",
    "for filename in sampled_files:\n",
    "    with open(filename) as f:\n",
    "        lines = f.read().splitlines()\n",
    "        \n",
    "    all_lines.extend(lines)\n",
    "\n",
    "print(\"number of lines sampled:\", len(all_lines))\n",
    "\n",
    "#combine into a single file\n",
    "\n",
    "tempfile = os.path.join(cfg.DATA_DIR, \"temp.txt\")\n",
    "with open(tempfile, \"w\") as f:\n",
    "\n",
    "            for sentence in tqdm(all_lines):\n",
    "                \n",
    "                # remove newlines\n",
    "                line = sentence.strip()\n",
    "\n",
    "                # do not save empty items such as\n",
    "                if sentence != []:\n",
    "\n",
    "                    f.writelines(sentence + '\\n')"
   ]
  },
  {
   "cell_type": "code",
   "execution_count": null,
   "id": "82cd703a",
   "metadata": {},
   "outputs": [],
   "source": [
    "import sentencepiece as spm\n",
    "import time\n",
    "\n",
    "#spm.SentencePieceTrainer.train(input=jp_sentence_files, \n",
    "#                               model_prefix='m', vocab_size=1000)\n",
    "\n",
    "vocab_size = 32000\n",
    "\n",
    "start = time.time()\n",
    "model_prefix = \"cc100_jp\" + \"_vocab_\" + str(vocab_size)\n",
    "spm.SentencePieceTrainer.train(input=tempfile\n",
    "                                       , model_prefix=model_prefix\n",
    "                                       , vocab_size=vocab_size\n",
    "                                       , character_coverage = 0.9995\n",
    "                                       , num_threads=60\n",
    "                                       , train_extremely_large_corpus=True\n",
    "                                      ) \n",
    "print(\"Trained {} in {} seconds\".format(model_prefix, time.time()-start))"
   ]
  },
  {
   "cell_type": "code",
   "execution_count": null,
   "id": "37e942e4",
   "metadata": {},
   "outputs": [],
   "source": [
    "import glob\n",
    "import cfg\n",
    "from random import sample\n",
    "from tqdm import tqdm\n",
    "import os\n",
    "\n",
    "num_files = 7\n",
    "\n",
    "# read text files as a list\n",
    "en_sentence_files = glob.glob(cfg.EN_SENTENCES_DIR + \"/*.txt\")\n",
    "\n",
    "# sample num_files\n",
    "sampled_files=sample(en_sentence_files, num_files)\n",
    "print(sampled_files)\n",
    "\n",
    "#read all the lines as a list\n",
    "all_lines = []\n",
    "for filename in sampled_files:\n",
    "    with open(filename) as f:\n",
    "        lines = f.read().splitlines()\n",
    "        \n",
    "    all_lines.extend(lines)\n",
    "\n",
    "print(\"number of lines sampled:\", len(all_lines))\n",
    "\n",
    "#combine into a single file\n",
    "\n",
    "tempfile = os.path.join(cfg.DATA_DIR, \"temp.txt\")\n",
    "with open(tempfile, \"w\") as f:\n",
    "\n",
    "            for sentence in tqdm(all_lines):\n",
    "                \n",
    "                # remove newlines\n",
    "                line = sentence.strip()\n",
    "\n",
    "                # do not save empty items such as\n",
    "                if sentence != []:\n",
    "\n",
    "                    f.writelines(sentence + '\\n')"
   ]
  },
  {
   "cell_type": "code",
   "execution_count": null,
   "id": "ca50a1ae",
   "metadata": {},
   "outputs": [],
   "source": [
    "import sentencepiece as spm\n",
    "import time\n",
    "\n",
    "#spm.SentencePieceTrainer.train(input=jp_sentence_files, \n",
    "#                               model_prefix='m', vocab_size=1000)\n",
    "\n",
    "vocab_size = 32000\n",
    "\n",
    "start = time.time()\n",
    "model_prefix = \"cc100_en\" + \"_vocab_\" + str(vocab_size)\n",
    "spm.SentencePieceTrainer.train(input=tempfile\n",
    "                                       , model_prefix=model_prefix\n",
    "                                       , vocab_size=vocab_size\n",
    "                                       , character_coverage = 0.9995\n",
    "                                       , num_threads=60\n",
    "                                       , train_extremely_large_corpus=True\n",
    "                                      ) \n",
    "print(\"Trained {} in {} seconds\".format(model_prefix, time.time()-start))"
   ]
  }
 ],
 "metadata": {
  "kernelspec": {
   "display_name": "Python 3 (ipykernel)",
   "language": "python",
   "name": "python3"
  },
  "language_info": {
   "codemirror_mode": {
    "name": "ipython",
    "version": 3
   },
   "file_extension": ".py",
   "mimetype": "text/x-python",
   "name": "python",
   "nbconvert_exporter": "python",
   "pygments_lexer": "ipython3",
   "version": "3.8.10"
  }
 },
 "nbformat": 4,
 "nbformat_minor": 5
}
