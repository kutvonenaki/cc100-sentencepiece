{
 "cells": [
  {
   "cell_type": "code",
   "execution_count": 1,
   "id": "402fb721",
   "metadata": {},
   "outputs": [],
   "source": [
    "import sentencepiece as spm\n",
    "import cfg\n",
    "import os\n",
    "\n",
    "modelpath = os.path.join(cfg.MODELS_DIR, \"cc100_en_vocab_32000.model\")\n",
    "tokenizer = spm.SentencePieceProcessor(model_file=modelpath)"
   ]
  },
  {
   "cell_type": "code",
   "execution_count": 5,
   "id": "9eedf553",
   "metadata": {},
   "outputs": [
    {
     "data": {
      "text/plain": [
       "['▁This', '▁is', '▁an', '▁example', '▁sentence']"
      ]
     },
     "execution_count": 5,
     "metadata": {},
     "output_type": "execute_result"
    }
   ],
   "source": [
    "tokenizer.encode(\"This is an example sentence\", out_type=str)"
   ]
  },
  {
   "cell_type": "code",
   "execution_count": 7,
   "id": "8f5fd913",
   "metadata": {},
   "outputs": [
    {
     "name": "stdout",
     "output_type": "stream",
     "text": [
      "0 32000 1 2\n"
     ]
    }
   ],
   "source": [
    "# special symbols, put the padding as the last symbol\n",
    "UNK_IDX = tokenizer.piece_to_id('<unk>')\n",
    "BOS_IDX = tokenizer.piece_to_id('<s>')\n",
    "EOS_IDX = tokenizer.piece_to_id('</s>')\n",
    "PAD_IDX = len(tokenizer)\n",
    "\n",
    "print(UNK_IDX, PAD_IDX, BOS_IDX, EOS_IDX)"
   ]
  },
  {
   "cell_type": "code",
   "execution_count": 13,
   "id": "44a8c76d",
   "metadata": {},
   "outputs": [
    {
     "name": "stdout",
     "output_type": "stream",
     "text": [
      "['▁', 'Hello', '▁', 'M', 'ed', 'ium']\n",
      "['▁', 'H', 'ello', '▁Me', 'di', 'u', 'm']\n",
      "['▁', 'He', 'l', 'lo', '▁', 'Me', 'd', 'i', 'um']\n",
      "['▁Hello', '▁Me', 'd', 'i', 'um']\n",
      "['▁Hello', '▁Medium']\n"
     ]
    }
   ],
   "source": [
    "for _ in range(5):\n",
    "    print(tokenizer.encode('Hello Medium', out_type=str, enable_sampling=True, alpha=0.1, nbest_size=-1))"
   ]
  },
  {
   "cell_type": "code",
   "execution_count": 4,
   "id": "2d59dfb0",
   "metadata": {},
   "outputs": [
    {
     "data": {
      "text/plain": [
       "['▁This', '▁is', '▁', 'a', '▁', 'te', 's', 't']"
      ]
     },
     "execution_count": 4,
     "metadata": {},
     "output_type": "execute_result"
    }
   ],
   "source": [
    "tokenizer.encode('This is a test', out_type=str, enable_sampling=True, alpha=0.1, nbest_size=-1)"
   ]
  }
 ],
 "metadata": {
  "kernelspec": {
   "display_name": "Python 3 (ipykernel)",
   "language": "python",
   "name": "python3"
  },
  "language_info": {
   "codemirror_mode": {
    "name": "ipython",
    "version": 3
   },
   "file_extension": ".py",
   "mimetype": "text/x-python",
   "name": "python",
   "nbconvert_exporter": "python",
   "pygments_lexer": "ipython3",
   "version": "3.8.10"
  }
 },
 "nbformat": 4,
 "nbformat_minor": 5
}
